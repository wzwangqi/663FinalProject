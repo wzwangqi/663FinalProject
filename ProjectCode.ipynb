{
 "cells": [
  {
   "cell_type": "code",
   "execution_count": 9,
   "metadata": {
    "collapsed": true
   },
   "outputs": [],
   "source": [
    "# Generate Data\n",
    "def GenerateData(select):\n",
    "    random.seed(100)\n",
    "    if select == 1:\n",
    "        CL1 = 7\n",
    "        CL2 = 7\n",
    "        data = np.zeros((14,2))\n",
    "        for i in range(1,CL1+1):\n",
    "            data[i,0] = 1 + random.random()\n",
    "            data[i,1] = 1 + random.random()\n",
    "        \n",
    "        for i in range(CL1+1,CL2+CL1+1):\n",
    "            data[i,0] = 3 + random.random()\n",
    "            data[i,1] = 3 + random.random()\n",
    "    elif select == 2:\n",
    "        CL1 = 7\n",
    "        CL2 = 7\n",
    "        CL3 = 7\n",
    "        data = np.zeros((21,2))\n",
    "        for i in range(1,CL1+1):\n",
    "            data[i,0] = 1 + random.random()\n",
    "            data[i,1] = 1 + random.random()\n",
    "        \n",
    "        for i in range(CL1+1,CL2+CL1+1):\n",
    "            data[i,0] = 3 + random.random()\n",
    "            data[i,1] = 1 + random.random()\n",
    "\n",
    "        for i in range(CL2+CL1+1,CL3+CL2+CL1+1):\n",
    "            data[i,0] = 1.5 + random.random()\n",
    "            data[i,1] = 3 + random.random()\n",
    "    return data"
   ]
  },
  {
   "cell_type": "code",
   "execution_count": 8,
   "metadata": {
    "collapsed": false
   },
   "outputs": [],
   "source": [
    "def CalculateAffinity(data):\n",
    "    sigma = 1\n",
    "    col_size = data.shape[0]\n",
    "    affinity = np.zeros((col_size,col_size))\n",
    "    for i in range(col_size):\n",
    "        for j in range(col_size):\n",
    "            dist = math.sqrt((data[i,0]-data[j,0])^2 + (data[i, 1] - data[j,1])^2)\n",
    "            affinity[i,j] = math.exp(-dist/(2*sigma^2))\n",
    "    return affinity"
   ]
  },
  {
   "cell_type": "code",
   "execution_count": null,
   "metadata": {
    "collapsed": true
   },
   "outputs": [],
   "source": []
  }
 ],
 "metadata": {
  "kernelspec": {
   "display_name": "Python 3",
   "language": "python",
   "name": "python3"
  },
  "language_info": {
   "codemirror_mode": {
    "name": "ipython",
    "version": 3
   },
   "file_extension": ".py",
   "mimetype": "text/x-python",
   "name": "python",
   "nbconvert_exporter": "python",
   "pygments_lexer": "ipython3",
   "version": "3.5.1"
  }
 },
 "nbformat": 4,
 "nbformat_minor": 0
}
