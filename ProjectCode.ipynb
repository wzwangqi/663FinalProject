{
 "cells": [
  {
   "cell_type": "code",
   "execution_count": 30,
   "metadata": {
    "collapsed": true
   },
   "outputs": [],
   "source": [
    "import random\n",
    "import math\n",
    "import numpy as np\n",
    "import scipy.linalg as la\n",
    "import matplotlib.pyplot as plt\n",
    "%matplotlib inline"
   ]
  },
  {
   "cell_type": "code",
   "execution_count": 6,
   "metadata": {
    "collapsed": true
   },
   "outputs": [],
   "source": [
    "# Generate Data\n",
    "def GenerateData(select):\n",
    "    random.seed(100)\n",
    "    if select == 1:\n",
    "        CL1 = 7\n",
    "        CL2 = 7\n",
    "        data = np.zeros((14,2))\n",
    "        for i in range(0,CL1+1):\n",
    "            data[i,0] = 1 + random.random()\n",
    "            data[i,1] = 1 + random.random()\n",
    "        \n",
    "        for i in range(CL1+1,CL2+CL1):\n",
    "            data[i,0] = 3 + random.random()\n",
    "            data[i,1] = 3 + random.random()\n",
    "    elif select == 2:\n",
    "        CL1 = 7\n",
    "        CL2 = 7\n",
    "        CL3 = 7\n",
    "        data = np.zeros((21,2))\n",
    "        for i in range(0,CL1+1):\n",
    "            data[i,0] = 1 + random.random()\n",
    "            data[i,1] = 1 + random.random()\n",
    "        \n",
    "        for i in range(CL1+1,CL2+CL1+1):\n",
    "            data[i,0] = 3 + random.random()\n",
    "            data[i,1] = 1 + random.random()\n",
    "\n",
    "        for i in range(CL2+CL1+1,CL3+CL2+CL1):\n",
    "            data[i,0] = 1.5 + random.random()\n",
    "            data[i,1] = 3 + random.random()\n",
    "    return data"
   ]
  },
  {
   "cell_type": "code",
   "execution_count": 7,
   "metadata": {
    "collapsed": false
   },
   "outputs": [],
   "source": [
    "def CalculateAffinity(data):\n",
    "    sigma = 1\n",
    "    col_size = data.shape[0]\n",
    "    affinity = np.zeros((col_size,col_size))\n",
    "    for i in range(col_size):\n",
    "        for j in range(col_size):\n",
    "            dist = math.sqrt((data[i,0]-data[j,0])**2 + (data[i, 1] - data[j,1])**2)\n",
    "            affinity[i,j] = math.exp(-dist/(2*sigma**2))\n",
    "    return affinity"
   ]
  },
  {
   "cell_type": "code",
   "execution_count": 35,
   "metadata": {
    "collapsed": false
   },
   "outputs": [],
   "source": [
    "def Weiss(k):\n",
    "    #  generate the data, calculate the affinity \n",
    "    data = GenerateData(2)\n",
    "    affinity = CalculateAffinity(data)\n",
    "\n",
    "    # compute the degree matrix\n",
    "    D =  np.zeros((affinity.shape))\n",
    "    for i in range(affinity.shape[0]):\n",
    "        D[i,i] = sum(affinity[i,:])\n",
    "\n",
    "\n",
    "        #compute the normalized laplacian / affinity matrix (method 1)\n",
    "    NL1 = np.zeros((affinity.shape))\n",
    "    for i in range(affinity.shape[0]):\n",
    "         for j in range(affinity.shape[1]):\n",
    "                NL1[i,j] = affinity[i,j]/(math.sqrt(D[i,i]*math.sqrt(D[j,j])))\n",
    "\n",
    "    eigvalue,eigvector = la.eig(NL1)\n",
    "    sort_index = np.argsort(eigvalue)\n",
    "    new_eigvec = eigvector[:,sort_index[-k:][::-1]]\n",
    "\n",
    "    \n",
    "    new_eigvec = eigvector[:,(eigvector.shape[0]-(k-1)):(eigvector.shape[0]+1)]"
   ]
  },
  {
   "cell_type": "code",
   "execution_count": 166,
   "metadata": {
    "collapsed": false
   },
   "outputs": [],
   "source": [
    "data = GenerateData(2)\n",
    "affinity = CalculateAffinity(data)\n",
    "\n",
    "# compute the degree matrix\n",
    "D =  np.zeros((affinity.shape))\n",
    "for i in range(affinity.shape[0]):\n",
    "    D[i,i] = sum(affinity[i,:])\n",
    "\n",
    "\n",
    "#compute the normalized laplacian / affinity matrix (method 1)\n",
    "NL1 = np.zeros((affinity.shape))\n",
    "for i in range(affinity.shape[0]):\n",
    "    for j in range(affinity.shape[1]):\n",
    "        NL1[i,j] = affinity[i,j]/(math.sqrt(D[i,i]*math.sqrt(D[j,j])))\n",
    "k = 3\n",
    "eigvalue,eigvector = la.eig(NL1)\n",
    "sort_index = np.argsort(eigvalue)\n",
    "new_eigvec = eigvector[:,sort_index[-k:][::-1]]\n",
    "\n",
    "#construct the normalized matrix U from the obtained eigen vectors\n",
    "U = np.zeros((new_eigvec.shape))\n",
    "for i in range(new_eigvec.shape[0]):\n",
    "    n = math.sqrt(sum(new_eigvec[i,:]**2));   \n",
    "    U[i,:] = new_eigvec[i,:]/n "
   ]
  },
  {
   "cell_type": "code",
   "execution_count": 173,
   "metadata": {
    "collapsed": false
   },
   "outputs": [
    {
     "name": "stdout",
     "output_type": "stream",
     "text": [
      "When n_clusters = 3 , we have the best silhouette_score = 0.858093456711\n"
     ]
    },
    {
     "data": {
      "image/png": "[encoded data removed]",
      "text/plain": [
       "<matplotlib.figure.Figure at 0x11a9a7630>"
      ]
     },
     "metadata": {},
     "output_type": "display_data"
    }
   ],
   "source": [
    "# First method: Kmeans\n",
    "\n",
    "from sklearn.datasets import make_blobs\n",
    "from sklearn.cluster import KMeans\n",
    "from sklearn.metrics import silhouette_samples, silhouette_score\n",
    "import numpy as np\n",
    "\n",
    "# select the four predicators in iris, create the unsupervised form\n",
    "X=U\n",
    "\n",
    "# generate the possible range \n",
    "clusters =range(2,8)\n",
    "\n",
    "all_score = []\n",
    "for item in clusters:\n",
    "\n",
    "    # Initialize the clusterer with n_clusters value in clusters\n",
    "    clusterer = KMeans(n_clusters=item, random_state=42)\n",
    "    cluster_labels = clusterer.fit_predict(X)\n",
    "\n",
    "    # The silhouette_score gives the average value for all the samples.\n",
    "    silhouette_avg = silhouette_score(X, cluster_labels)\n",
    "    all_score.append(silhouette_avg)\n",
    "\n",
    "# Find the max silhouette score\n",
    "Num_cluster = [i+2 for i, j in enumerate(all_score) if j == max(all_score)]\n",
    "\n",
    "   \n",
    "print(\"When n_clusters =\", str(Num_cluster).strip('[]'),\n",
    "          \", we have the best silhouette_score =\", max(all_score))\n",
    "\n",
    "answer=str(Num_cluster).strip('[]')\n",
    "\n",
    "# Make a pairwise scatter plot\n",
    "clust_result = KMeans(n_clusters=int(answer), random_state=10)\n",
    "cluster_labels = clust_result.fit_predict(X)\n",
    "indicator=np.loadtxt(cluster_labels,dtype='int32')\n",
    "ID=indicator.tolist()\n",
    "IDX=np.asarray(ID) \n",
    "\n",
    "\n",
    "plt.figure(figsize=(15,5))\n",
    "plt.subplot(1,2,1)\n",
    "plt.scatter(data[:,0],data[:,1],s=30)\n",
    "plt.title('Original Data Points')\n",
    "\n",
    "plt.subplot(1,2,2)\n",
    "for i in range(len(IDX)):\n",
    "    if IDX[i] == 0:\n",
    "        plt.scatter(data[i,0],data[i,1],color='red',s=30)\n",
    "    elif IDX[i] == 1:\n",
    "        plt.scatter(data[i,0],data[i,1],color = 'blue',s=30)\n",
    "    elif IDX[i] == 2:\n",
    "        plt.scatter(data[i,0],data[i,1],color = 'green',s=30)\n",
    "plt.title('Clustering Points with Kmeans')\n",
    "plt.show()\n",
    "\n",
    "\n"
   ]
  },
  {
   "cell_type": "code",
   "execution_count": null,
   "metadata": {
    "collapsed": true
   },
   "outputs": [],
   "source": []
  }
 ],
 "metadata": {
  "kernelspec": {
   "display_name": "Python 3",
   "language": "python",
   "name": "python3"
  },
  "language_info": {
   "codemirror_mode": {
    "name": "ipython",
    "version": 3
   },
   "file_extension": ".py",
   "mimetype": "text/x-python",
   "name": "python",
   "nbconvert_exporter": "python",
   "pygments_lexer": "ipython3",
   "version": "3.5.1"
  }
 },
 "nbformat": 4,
 "nbformat_minor": 0
}
