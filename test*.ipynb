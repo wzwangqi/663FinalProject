{
 "cells": [
  {
   "cell_type": "code",
   "execution_count": 39,
   "metadata": {
    "collapsed": true
   },
   "outputs": [],
   "source": [
    "import pytest\n",
    "import random\n",
    "import math\n",
    "import numpy as np\n",
    "import scipy.linalg as la\n",
    "import matplotlib.pyplot as plt\n",
    "%matplotlib inline\n",
    "import time\n",
    "from sklearn.cluster import KMeans"
   ]
  },
  {
   "cell_type": "code",
   "execution_count": 18,
   "metadata": {
    "collapsed": false
   },
   "outputs": [],
   "source": [
    "def GenerateData(select, CL1=7, CL2=14, CL3=21, seed=None):\n",
    "    \"\"\"Generate data for the ideal case (clusters well separated). \n",
    "        This function can genearate 2 or 3 clusters.    \n",
    "\n",
    "        Args:\n",
    "            select: Which dataset to generate, can only input 1 or 2.\n",
    "            CL1: First cluster's size.\n",
    "            CL2: Second cluster's size.\n",
    "            CL3: Third cluster's size.\n",
    "            seed: Set seed for the random number generators.\n",
    "\n",
    "        Returns:\n",
    "            A numpy array for the generated dataset.\n",
    "\n",
    "    \"\"\"\n",
    "    \n",
    "    # set seed if user desired\n",
    "    if seed:\n",
    "        random.seed(100)\n",
    "    # choose to generate two datasets\n",
    "    if select == 1:\n",
    "        data = np.zeros((CL2,2))\n",
    "        for i in range(0,CL1):\n",
    "            data[i,0] = 1 + random.random()\n",
    "            data[i,1] = 1 + random.random()\n",
    "        \n",
    "        for i in range(CL1,CL2):\n",
    "            data[i,0] = 3 + random.random()\n",
    "            data[i,1] = 3 + random.random()\n",
    "    # choose to generate three datasets\n",
    "    elif select == 2:\n",
    "        data = np.zeros((CL3,2))\n",
    "        for i in range(0,CL1):\n",
    "            data[i,0] = 1 + random.random()\n",
    "            data[i,1] = 1 + random.random()\n",
    "        \n",
    "        for i in range(CL1,CL2):\n",
    "            data[i,0] = 3 + random.random()\n",
    "            data[i,1] = 1 + random.random()\n",
    "\n",
    "        for i in range(CL2,CL3):\n",
    "            data[i,0] = 1.5 + random.random()\n",
    "            data[i,1] = 3 + random.random()\n",
    "    return data\n",
    "\n",
    "def CreateCircle(n, seed = None):\n",
    "    \"\"\"Generate data for the case that do not correspond to non-convex region. \n",
    "        This function can genearate points that form circles.    \n",
    "\n",
    "        Args:\n",
    "            n: How many circles the user wants.\n",
    "\n",
    "        Returns:\n",
    "            A numpy array for the generated dataset.\n",
    "\n",
    "    \"\"\"\n",
    "    if seed:\n",
    "        np.random.seed(100)\n",
    "    # generate a center for circles\n",
    "    u=n*np.random.random()\n",
    "    # generate an array of radius\n",
    "    d= np.linspace(1,5*n,n)\n",
    "    # generate an array of positions where the circles cross the x axis\n",
    "    r=u+d\n",
    "    \n",
    "    df=np.zeros((n*200,2))\n",
    "    for i in range(n):\n",
    "        # an array of positions on x axis\n",
    "        x=np.linspace(-r[i],r[i],100)\n",
    "        # corresponding y axis > 0for the circle\n",
    "        y=np.sqrt(r[i]**2-x**2)\n",
    "        # corresponding y axis < 0for the circle\n",
    "        y2=-np.sqrt(r[i]**2-x**2)\n",
    "        for j in range(2*i*100,(2*i+1)*100):\n",
    "            df[j,0]=x[j-2*i*100]\n",
    "            df[j,1]=y[j-2*i*100]\n",
    "        for j in range((2*i+1)*100,(2*i+2)*100):\n",
    "            df[j,0]=x[j-(2*i+1)*100]\n",
    "            df[j,1]=y2[j-(2*i+1)*100]\n",
    "    \n",
    "    # Add noise\n",
    "    df = df + np.random.random((n*200,2))\n",
    "    \n",
    "    return df\n",
    "\n",
    "def CalculateAffinity(data, sigma = 0.5):\n",
    "    \"\"\"Create an distance matrix with the given data. This is Step 1 in the Spectral Clustering Algorithm.\n",
    "    Step 1: Affinity matrix A defined by A_ij=exp(-||s_i-s_j||^2/2*sigma^2), and A_ii=0.\n",
    "\n",
    "        Args:\n",
    "            data: Data to be used to calculate Affinity.\n",
    "            sigma: Standard deviation that can be chosen by user.\n",
    "\n",
    "        Returns:\n",
    "            A numpy array for the calculated affinity matrix.\n",
    "\n",
    "    \"\"\"\n",
    "    #find number of columns in the dataset\n",
    "    col_size = data.shape[0]\n",
    "    #find number of rows in the dataset\n",
    "    dim = data.shape[1]\n",
    "    #create an empty numpy array of correct size\n",
    "    affinity = np.zeros((col_size,col_size))\n",
    "\n",
    "    for i in range(col_size):\n",
    "        for j in range(col_size):\n",
    "            dist_tmp = 0\n",
    "            for k in range(dim):\n",
    "                # calculate the euclidiean distance\n",
    "                dist_tmp +=(data[i,k]-data[j,k])**2\n",
    "            dist = math.sqrt(dist_tmp)\n",
    "            # calculate the affinity matrix A_ij=exp(-||s_i-s_j||^2/2*sigma^2)\n",
    "            affinity[i,j] = math.exp(-dist/(2*sigma**2))\n",
    "    # A_ii=0\n",
    "    A = (np.ones(affinity.shape) - np.eye(affinity.shape[0]))*affinity\n",
    "    \n",
    "    return A\n",
    "\n",
    "def Spectral(k, A):\n",
    "    \"\"\"Create cluster labels for points from k-means using the normalized matrix Algorithm Step 2-6. \n",
    "\n",
    "    Step 2: Define D to be the diagonal matrix whose (i,i)-element is the sum of A's i_th\n",
    "row,and construct the matrix L =D^(-l/2)AD^(-l/2).\n",
    "\n",
    "    Step 3: Find Xl , X2 , ... , Xk, the k largest eigenvectors of L (chosen to be orthogonal to each other in the case of repeated eigenvalues), and form the matrix X = [XIX2 . . . Xk) E R^(nxk) by stacking the eigenvectors in columns.\n",
    "\n",
    "    Step 4: Form the matrix Y from X by renormalizing each of X's rows to have unit length (i.e. Y_ij = X_ij/sum(X_ij^2)^(1/2).\n",
    "\n",
    "    Step 5: Treating each row of Y as a point in R^k , cluster them into k clusters via K-means or any other algorithm.\n",
    "\n",
    "    Step 6: Finally, assign the original point s_i to cluster j if and only if row i of the matrix Y was assigned to cluster j.\n",
    "\n",
    "\n",
    "        Args:\n",
    "            k: The number of clusters desired.\n",
    "            A: The affinity matrix.\n",
    "\n",
    "        Returns:\n",
    "            A numpy array of the cluster assignment for each point.\n",
    "\n",
    "    \"\"\"\n",
    "    # compute the degree matrix\n",
    "    \n",
    "    D = np.diag(np.sum(A, axis=0))\n",
    "\n",
    "\n",
    "    #compute the normalized laplacian matrix\n",
    "    NL1 = np.zeros((A.shape))\n",
    "    for i in range(A.shape[0]):\n",
    "         for j in range(A.shape[1]):\n",
    "                NL1[i,j] = A[i,j]/(math.sqrt(D[i,i])*math.sqrt(D[j,j]))\n",
    "\n",
    "    eigvalue,eigvector = la.eig(NL1)\n",
    "    sort_index = np.argsort(eigvalue)\n",
    "    X = eigvector[:,sort_index[-k:][::-1]]\n",
    "\n",
    "    \n",
    "    \n",
    "    #construct the normalized matrix U from the obtained eigen vectors\n",
    "    Y = np.zeros((X.shape))\n",
    "    for i in range(X.shape[0]):\n",
    "        n = math.sqrt(sum(X[i,:]**2));   \n",
    "        Y[i,:] = X[i,:]/n \n",
    "\n",
    "    #Apply k-means\n",
    "    clust_result = KMeans(n_clusters=k, random_state=10)\n",
    "    cluster_labels = clust_result.fit_predict(Y)\n",
    "    indicator=np.loadtxt(cluster_labels,dtype='int32')\n",
    "    ID=indicator.tolist()\n",
    "    IDX=np.asarray(ID) \n",
    "    return IDX"
   ]
  },
  {
   "cell_type": "code",
   "execution_count": 7,
   "metadata": {
    "collapsed": true
   },
   "outputs": [],
   "source": [
    "withSeed0 = np.array([ 1.14566926,  1.454927  ])"
   ]
  },
  {
   "cell_type": "code",
   "execution_count": 8,
   "metadata": {
    "collapsed": false
   },
   "outputs": [],
   "source": [
    "\"\"\"Generate Data\"\"\"\n",
    "#General Case\n",
    "data1 = GenerateData(2,seed=True)\n",
    "assert data1.shape == (21,2)\n",
    "assert np.allclose(data1[0], withSeed0)\n",
    "assert type(data1) == np.ndarray\n",
    "#Edge Case\n",
    "with pytest.raises(TypeError):\n",
    "        GenerateData()\n",
    "with pytest.raises(UnboundLocalError):\n",
    "        GenerateData(0)"
   ]
  },
  {
   "cell_type": "code",
   "execution_count": 21,
   "metadata": {
    "collapsed": true
   },
   "outputs": [],
   "source": [
    "withSeedCircle0 = np.array([-1.8084405 ,  0.42451759])"
   ]
  },
  {
   "cell_type": "code",
   "execution_count": 34,
   "metadata": {
    "collapsed": false
   },
   "outputs": [],
   "source": [
    "\"\"\"CreateCircle\"\"\"\n",
    "#General Case\n",
    "data2 = CreateCircle(2,seed=True)\n",
    "assert data2.shape == (400,2)\n",
    "assert np.allclose(data2[0], withSeedCircle0)\n",
    "assert type(data2) == np.ndarray\n",
    "#Edge Case\n",
    "with pytest.raises(TypeError):\n",
    "        CreateCircle()\n",
    "assert type(CreateCircle(0)) == np.ndarray\n"
   ]
  },
  {
   "cell_type": "code",
   "execution_count": 36,
   "metadata": {
    "collapsed": true
   },
   "outputs": [],
   "source": [
    "withSeedAffinity0 = np.array([ 0.        ,  0.26003482,  0.30932548,  0.26768046,  0.8771766 ,\n",
    "         0.37686546,  0.19778772,  0.01261911,  0.01571137,  0.01671333,\n",
    "         0.00631755,  0.01426118,  0.0074362 ,  0.00462141,  0.02035262,\n",
    "         0.01930505,  0.00833584,  0.00747444,  0.01259086,  0.00954783,\n",
    "         0.01525707])"
   ]
  },
  {
   "cell_type": "code",
   "execution_count": 37,
   "metadata": {
    "collapsed": false
   },
   "outputs": [],
   "source": [
    "\"\"\"Calculate Affinity\"\"\"\n",
    "#General case\n",
    "affinity = CalculateAffinity(data1)\n",
    "assert affinity.shape == (21,21)\n",
    "assert np.allclose(affinity[0],withSeedAffinity0)\n",
    "assert type(affinity) == np.ndarray\n",
    "#Edge Case\n",
    "with pytest.raises(AttributeError):\n",
    "        CalculateAffinity(0)\n",
    "with pytest.raises(TypeError):\n",
    "        CalculateAffinity()"
   ]
  },
  {
   "cell_type": "code",
   "execution_count": 42,
   "metadata": {
    "collapsed": true
   },
   "outputs": [],
   "source": [
    "withSeedSpectral = np.array([2, 2, 2, 2, 2, 2, 2, 0, 0, 0, 0, 0, 0, 0, 1, 1, 1, 1, 1, 1, 1])"
   ]
  },
  {
   "cell_type": "code",
   "execution_count": 45,
   "metadata": {
    "collapsed": false
   },
   "outputs": [],
   "source": [
    "\"\"\"Spectral\"\"\"\n",
    "#General case\n",
    "spectral = Spectral(3, affinity)\n",
    "assert spectral.shape == (21,)\n",
    "assert np.allclose(spectral,withSeedSpectral)\n",
    "assert type(affinity) == np.ndarray\n",
    "#Edge case\n",
    "with pytest.raises(TypeError):\n",
    "        Spectral()\n",
    "with pytest.raises(TypeError):\n",
    "        Spectral(0)\n",
    "with pytest.raises(ValueError):\n",
    "        Spectral(0,0)\n"
   ]
  },
  {
   "cell_type": "code",
   "execution_count": null,
   "metadata": {
    "collapsed": true
   },
   "outputs": [],
   "source": []
  }
 ],
 "metadata": {
  "kernelspec": {
   "display_name": "Python 3",
   "language": "python",
   "name": "python3"
  },
  "language_info": {
   "codemirror_mode": {
    "name": "ipython",
    "version": 3
   },
   "file_extension": ".py",
   "mimetype": "text/x-python",
   "name": "python",
   "nbconvert_exporter": "python",
   "pygments_lexer": "ipython3",
   "version": "3.5.1"
  }
 },
 "nbformat": 4,
 "nbformat_minor": 0
}
