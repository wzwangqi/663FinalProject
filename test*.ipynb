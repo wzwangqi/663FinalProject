{
 "cells": [
  {
   "cell_type": "code",
   "execution_count": 1,
   "metadata": {
    "collapsed": true
   },
   "outputs": [],
   "source": [
    "import pytest\n",
    "import random\n",
    "import math\n",
    "import numpy as np\n",
    "import scipy.linalg as la\n",
    "import matplotlib.pyplot as plt\n",
    "%matplotlib inline\n",
    "import time"
   ]
  },
  {
   "cell_type": "code",
   "execution_count": 28,
   "metadata": {
    "collapsed": false
   },
   "outputs": [],
   "source": [
    "def GenerateData(select, CL1=7, CL2=14, CL3=21, seed=None):\n",
    "    if seed:\n",
    "        random.seed(100)\n",
    "    if select == 1:\n",
    "        data = np.zeros((CL2,2))\n",
    "        for i in range(0,CL1):\n",
    "            data[i,0] = 1 + random.random()\n",
    "            data[i,1] = 1 + random.random()\n",
    "        \n",
    "        for i in range(CL1,CL2):\n",
    "            data[i,0] = 3 + random.random()\n",
    "            data[i,1] = 3 + random.random()\n",
    "    elif select == 2:\n",
    "        data = np.zeros((CL3,2))\n",
    "        for i in range(0,CL1):\n",
    "            data[i,0] = 1 + random.random()\n",
    "            data[i,1] = 1 + random.random()\n",
    "        \n",
    "        for i in range(CL1,CL2):\n",
    "            data[i,0] = 3 + random.random()\n",
    "            data[i,1] = 1 + random.random()\n",
    "\n",
    "        for i in range(CL2,CL3):\n",
    "            data[i,0] = 1.5 + random.random()\n",
    "            data[i,1] = 3 + random.random()\n",
    "    return data\n",
    "\n",
    "def CalculateAffinity(data):\n",
    "    sigma = 1\n",
    "    col_size = data.shape[0]\n",
    "    dim = data.shape[1]\n",
    "    affinity = np.zeros((col_size,col_size))\n",
    "\n",
    "    for i in range(col_size):\n",
    "        for j in range(col_size):\n",
    "            dist_tmp = 0\n",
    "            for k in range(dim):\n",
    "                dist_tmp +=(data[i,k]-data[j,k])**2\n",
    "            dist = math.sqrt(dist_tmp)\n",
    "            affinity[i,j] = math.exp(-dist/(2*sigma**2))\n",
    "    return affinity\n",
    "\n",
    "def Spectral(k,affinity):\n",
    "  \n",
    "    # compute the degree matrix\n",
    "    D =  np.zeros((affinity.shape))\n",
    "    for i in range(affinity.shape[0]):\n",
    "        D[i,i] = sum(affinity[i,:])\n",
    "\n",
    "\n",
    "    #compute the normalized laplacian / affinity matrix (method 1)\n",
    "    NL1 = np.zeros((affinity.shape))\n",
    "    for i in range(affinity.shape[0]):\n",
    "         for j in range(affinity.shape[1]):\n",
    "                NL1[i,j] = affinity[i,j]/(math.sqrt(D[i,i]*math.sqrt(D[j,j])))\n",
    "\n",
    "    eigvalue,eigvector = la.eig(NL1)\n",
    "    sort_index = np.argsort(eigvalue)\n",
    "    new_eigvec = eigvector[:,sort_index[-k:][::-1]]\n",
    "\n",
    "    \n",
    "    #new_eigvec = eigvector[:,(eigvector.shape[0]-(k-1)):(eigvector.shape[0]+1)]\n",
    "    #construct the normalized matrix U from the obtained eigen vectors\n",
    "    U = np.zeros((new_eigvec.shape))\n",
    "    for i in range(new_eigvec.shape[0]):\n",
    "        n = math.sqrt(sum(new_eigvec[i,:]**2));   \n",
    "        U[i,:] = new_eigvec[i,:]/n \n",
    "    return U"
   ]
  },
  {
   "cell_type": "code",
   "execution_count": 48,
   "metadata": {
    "collapsed": true
   },
   "outputs": [],
   "source": [
    "withSeed = np.array([[ 1.14566926,  1.454927  ],\n",
    "       [ 1.77078381,  1.70551323],\n",
    "       [ 1.73195897,  1.43351443],\n",
    "       [ 1.80002046,  1.53290141],\n",
    "       [ 1.08015371,  1.45594588],\n",
    "       [ 1.04788752,  1.9329624 ],\n",
    "       [ 1.94707801,  1.33535078],\n",
    "       [ 3.30940593,  1.76801815],\n",
    "       [ 3.20386953,  1.17846076],\n",
    "       [ 3.18859491,  1.34700445],\n",
    "       [ 3.62632164,  1.96331578],\n",
    "       [ 3.21083399,  1.95610065],\n",
    "       [ 3.55539967,  1.90115204],\n",
    "       [ 3.81801819,  1.16042181],\n",
    "       [ 2.14854291,  3.12409328],\n",
    "       [ 1.50564509,  3.39551618],\n",
    "       [ 2.2735007 ,  3.56615771],\n",
    "       [ 1.69264066,  3.84117471],\n",
    "       [ 2.41377684,  3.23722506],\n",
    "       [ 1.94819248,  3.63779981],\n",
    "       [ 2.40234302,  3.12661521]])"
   ]
  },
  {
   "cell_type": "code",
   "execution_count": 49,
   "metadata": {
    "collapsed": false
   },
   "outputs": [],
   "source": [
    "\"\"\"Generate Data\"\"\"\n",
    "data1 = GenerateData(2,seed=True)\n",
    "assert data1.shape == (21,2)\n",
    "assert np.allclose(data1, withSeed)\n",
    "assert type(data1) == np.ndarray"
   ]
  },
  {
   "cell_type": "code",
   "execution_count": 55,
   "metadata": {
    "collapsed": true
   },
   "outputs": [],
   "source": [
    "withSeedAffinity0 = np.array([ 1.        ,  0.7140981 ,  0.74576831,  0.71929024,  0.96776912,\n",
    "         0.78351368,  0.66688328,  0.33516388,  0.35404096,  0.35955535,\n",
    "         0.28192737,  0.34557224,  0.29365529,  0.26073155,  0.37770703,\n",
    "         0.37275008,  0.30216027,  0.29403203,  0.33497615,  0.31259077,\n",
    "         0.35145343])"
   ]
  },
  {
   "cell_type": "code",
   "execution_count": 56,
   "metadata": {
    "collapsed": false
   },
   "outputs": [],
   "source": [
    "\"\"\"Calculate Affinity\"\"\"\n",
    "affinity = CalculateAffinity(data1)\n",
    "assert affinity.shape == (21,21)\n",
    "assert np.allclose(affinity[0],withSeedAffinity0)\n",
    "assert type(affinity) == np.ndarray"
   ]
  },
  {
   "cell_type": "code",
   "execution_count": 60,
   "metadata": {
    "collapsed": true
   },
   "outputs": [],
   "source": [
    "withSeedSpectral0 = np.array([ 0.5048797 ,  0.02696841,  0.86276833])"
   ]
  },
  {
   "cell_type": "code",
   "execution_count": 61,
   "metadata": {
    "collapsed": false
   },
   "outputs": [],
   "source": [
    "\"\"\"Spectral\"\"\"\n",
    "spectral = Spectral(3, affinity)\n",
    "assert spectral.shape == (21,3)\n",
    "assert np.allclose(spectral[0],withSeedSpectral0)\n",
    "assert type(affinity) == np.ndarray"
   ]
  }
 ],
 "metadata": {
  "kernelspec": {
   "display_name": "Python 3",
   "language": "python",
   "name": "python3"
  },
  "language_info": {
   "codemirror_mode": {
    "name": "ipython",
    "version": 3
   },
   "file_extension": ".py",
   "mimetype": "text/x-python",
   "name": "python",
   "nbconvert_exporter": "python",
   "pygments_lexer": "ipython3",
   "version": "3.5.1"
  }
 },
 "nbformat": 4,
 "nbformat_minor": 0
}
